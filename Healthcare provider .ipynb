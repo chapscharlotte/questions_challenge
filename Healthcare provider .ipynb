{
 "cells": [
  {
   "cell_type": "code",
   "execution_count": 1,
   "metadata": {},
   "outputs": [],
   "source": [
    "import pandas as pd"
   ]
  },
  {
   "cell_type": "code",
   "execution_count": 17,
   "metadata": {},
   "outputs": [
    {
     "name": "stdout",
     "output_type": "stream",
     "text": [
      " Volume in drive C is Windows\n",
      " Volume Serial Number is 6ED0-E501\n",
      "\n",
      " Directory of C:\\Users\\User 1\\Downloads\\PartD_Prescriber_PUF_NPI_17\n",
      "\n",
      "05/02/2020  06:09 PM    <DIR>          .\n",
      "05/02/2020  06:09 PM    <DIR>          ..\n",
      "05/02/2020  06:09 PM       361,001,076 PartD_Prescriber_PUF_NPI_17.txt\n",
      "05/02/2020  06:09 PM            12,068 PartD_Prescriber_PUF_NPI_17-SAS-Infile.sas\n",
      "               2 File(s)    361,013,144 bytes\n",
      "               2 Dir(s)  256,115,265,536 bytes free\n"
     ]
    }
   ],
   "source": [
    "ls"
   ]
  },
  {
   "cell_type": "code",
   "execution_count": 19,
   "metadata": {},
   "outputs": [
    {
     "name": "stderr",
     "output_type": "stream",
     "text": [
      "b'Skipping line 16315: expected 84 fields, saw 86\\n'\n",
      "b'Skipping line 64555: expected 84 fields, saw 86\\n'\n",
      "b'Skipping line 67418: expected 84 fields, saw 86\\n'\n",
      "b'Skipping line 148883: expected 84 fields, saw 85\\nSkipping line 149968: expected 84 fields, saw 86\\n'\n",
      "b'Skipping line 184919: expected 84 fields, saw 85\\n'\n",
      "b'Skipping line 498784: expected 84 fields, saw 87\\n'\n",
      "b'Skipping line 558088: expected 84 fields, saw 88\\n'\n",
      "b'Skipping line 585700: expected 84 fields, saw 85\\n'\n",
      "b'Skipping line 642615: expected 84 fields, saw 85\\n'\n",
      "b'Skipping line 700787: expected 84 fields, saw 88\\n'\n",
      "b'Skipping line 953865: expected 84 fields, saw 87\\n'\n",
      "b'Skipping line 1136857: expected 84 fields, saw 85\\n'\n",
      "C:\\Users\\User 1\\Anaconda3\\lib\\site-packages\\IPython\\core\\interactiveshell.py:3063: DtypeWarning: Columns (65,66,67,68,69,70,71,72,73,74,75) have mixed types.Specify dtype option on import or set low_memory=False.\n",
      "  interactivity=interactivity, compiler=compiler, result=result)\n"
     ]
    }
   ],
   "source": [
    "df = pd.read_table('PartD_Prescriber_PUF_NPI_17.txt', delim_whitespace=True, error_bad_lines=False)"
   ]
  },
  {
   "cell_type": "code",
   "execution_count": null,
   "metadata": {},
   "outputs": [],
   "source": [
    "df.head(10)"
   ]
  },
  {
   "cell_type": "code",
   "execution_count": 30,
   "metadata": {},
   "outputs": [],
   "source": [
    "df_pi = df.groupby('npi')['bene_count'].sum()"
   ]
  },
  {
   "cell_type": "code",
   "execution_count": 34,
   "metadata": {},
   "outputs": [
    {
     "data": {
      "text/plain": [
       "npi\n",
       "1003000126        14788\n",
       "1003000142         1946\n",
       "1003000167       302.01\n",
       "1003000175           18\n",
       "1003000282            S\n",
       "1003000407    108601.73\n",
       "1003000423        307.2\n",
       "1003000480           73\n",
       "1003000522         4981\n",
       "1003000530      11406.5\n",
       "Name: bene_count, dtype: object"
      ]
     },
     "execution_count": 34,
     "metadata": {},
     "output_type": "execute_result"
    }
   ],
   "source": [
    "df_pi.head(10)"
   ]
  },
  {
   "cell_type": "code",
   "execution_count": null,
   "metadata": {},
   "outputs": [],
   "source": [
    "df['bene_count'].mean()"
   ]
  },
  {
   "cell_type": "code",
   "execution_count": null,
   "metadata": {},
   "outputs": [],
   "source": [
    "df['average_length'] = df['total_day_supply']/df['total_claim_count']"
   ]
  },
  {
   "cell_type": "code",
   "execution_count": 25,
   "metadata": {},
   "outputs": [
    {
     "data": {
      "text/plain": [
       "12"
      ]
     },
     "execution_count": 25,
     "metadata": {},
     "output_type": "execute_result"
    }
   ],
   "source": [
    "len(df_clean.columns)"
   ]
  },
  {
   "cell_type": "code",
   "execution_count": null,
   "metadata": {},
   "outputs": [],
   "source": []
  }
 ],
 "metadata": {
  "kernelspec": {
   "display_name": "Python 3",
   "language": "python",
   "name": "python3"
  },
  "language_info": {
   "codemirror_mode": {
    "name": "ipython",
    "version": 3
   },
   "file_extension": ".py",
   "mimetype": "text/x-python",
   "name": "python",
   "nbconvert_exporter": "python",
   "pygments_lexer": "ipython3",
   "version": "3.7.6"
  }
 },
 "nbformat": 4,
 "nbformat_minor": 4
}
